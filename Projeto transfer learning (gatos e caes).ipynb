{
  "nbformat": 4,
  "nbformat_minor": 0,
  "metadata": {
    "colab": {
      "provenance": [],
      "gpuType": "T4"
    },
    "kernelspec": {
      "name": "python3",
      "display_name": "Python 3"
    },
    "language_info": {
      "name": "python"
    },
    "accelerator": "GPU"
  },
  "cells": [
    {
      "cell_type": "markdown",
      "metadata": {
        "id": "s3TKQwQwrAnA"
      },
      "source": [
        "#  Classificação de Gatos e Cachorros com Transfer Learning\n",
        "\n",
        "## 📌 Introdução\n",
        "Neste projeto utilizamos **Transfer Learning** para resolver o problema de classificação binária entre imagens de **gatos** e **cachorros**.\n",
        "\n",
        "O Transfer Learning consiste em **reaproveitar uma rede neural já treinada em um grande dataset (ex.: ImageNet)** e adaptá-la para uma nova tarefa específica.\n",
        "\n",
        "Aqui, utilizamos uma rede pré-treinada como extratora de características e adicionamos uma nova camada de classificação para identificar gatos e cachorros.\n"
      ]
    },
    {
      "cell_type": "markdown",
      "metadata": {
        "id": "w-5cU5S9rAnE"
      },
      "source": [
        "## ⚙️ Passos do Projeto\n",
        "1. **Configuração do ambiente** → GPU no Google Colab.\n",
        "2. **Preparação do dataset** → extração, organização e carregamento.\n",
        "3. **Pré-processamento das imagens** → normalização, resize e divisão treino/validação.\n",
        "4. **Construção do modelo com Transfer Learning** → uso da rede pré-treinada (VGG16 ou MobileNetV2).\n",
        "5. **Treinamento do modelo** → apenas a camada final é ajustada.\n",
        "6. **Avaliação e visualização dos resultados** → métricas e gráficos.\n",
        "7. **Conclusão** → análise dos resultados obtidos.\n"
      ]
    },
    {
      "cell_type": "markdown",
      "source": [
        "# Verificar versão do python e do tensor\n",
        "Aqui estão os comandos para verificar qual a versão do python intalada no colab e do tensorflow.\n",
        "Irei alterar o tipo de processamento, alterando da CPU para GPU do colab para obter uma melhor performance do ambiente colab"
      ],
      "metadata": {
        "id": "7r9KPrbnEyTo"
      }
    },
    {
      "cell_type": "code",
      "execution_count": null,
      "metadata": {
        "colab": {
          "base_uri": "https://localhost:8080/"
        },
        "id": "J-D3g0j3DVzK",
        "outputId": "fc02cfe9-cc42-445b-cf4a-de845dcdd32f"
      },
      "outputs": [
        {
          "output_type": "stream",
          "name": "stdout",
          "text": [
            "Versão do tensorflow 2.19.0\n",
            "Versão do python 3.12.11 (main, Jun  4 2025, 08:56:18) [GCC 11.4.0]\n",
            "GPU disponível [PhysicalDevice(name='/physical_device:GPU:0', device_type='GPU')]\n"
          ]
        }
      ],
      "source": [
        "import tensorflow as tf\n",
        "import sys\n",
        "\n",
        "print(\"Versão do tensorflow\",tf.__version__)\n",
        "print(\"Versão do python\", sys.version)\n",
        "print(\"GPU disponível\", tf.config.list_physical_devices('GPU'))"
      ]
    },
    {
      "cell_type": "markdown",
      "source": [
        "#Importando as bibliotecas\n",
        "\n",
        "## Manipulação de dados\n",
        "**OS**: Utilizada para interagir com o sistema operacional. É usada para tarefas como criar, renomear, mover e excluir pastas e arquivos, além de listar o conteúdo de diretórios. É uma biblioteca nativa do Python\n",
        "**zipfile**: Foi utilizada para descompactar os arquivos compactados.\n",
        "\n",
        "## Visualização dos dados\n",
        "**Matplotlib:** Ferramenta utilizada para criar gráficos estáticos, animados e interativos em Python.\n",
        "\n",
        "## Ferramentas de Machine Learning e Deep Learning\n",
        "\n",
        "**Tensorflow:** Uma das plataformas de machine learning mais populares e robustas, criada pelo Google. O TensorFlow é um ecossistema de ferramentas, bibliotecas e recursos que permite aos desenvolvedores construir e implantar modelos de ML. É a espinha dorsal para o treinamento de redes neurais profundas.\n",
        "\n",
        "**tensorflow.keras.applications.VGG16:** VGG16 é uma arquitetura de rede neural convolucional (CNN) pré-treinada em um grande conjunto de dados de imagens chamado ImageNet. Usar modelos pré-treinados como o VGG16 é uma técnica de transfer learning. Foi escolhido essa arquitetura devido a sua robustes e como foi utilizado uma GPU nesse projeto, achei mais interessante utilizar essa arquitetura para ter uma maior precisão possível.\n",
        "\n",
        "**tensorflow.keras.layers:** Este módulo contém as diferentes \"camadas\" que compõem uma rede neural. As camadas são os blocos de construção dos modelos, cada uma com uma função específica. Por exemplo, a camada Dense é uma camada totalmente conectada, enquanto a camada Conv2D é usada para extrair características em imagens.\n",
        "\n",
        "**tensorflow.keras.models:** O módulo models permite a criação e gerenciamento dos modelos. As duas classes mais comuns são Sequential (para modelos onde as camadas são empilhadas em sequência) e Model (para modelos mais complexos, com múltiplas entradas e saídas). É aqui que você define a arquitetura do seu modelo, combinando as camadas do layers\n"
      ],
      "metadata": {
        "id": "QoIguEyQ4Y6n"
      }
    },
    {
      "cell_type": "code",
      "source": [
        "import os\n",
        "import zipfile\n",
        "import matplotlib.pyplot as plt\n",
        "import tensorflow as tf\n",
        "from tensorflow.keras.preprocessing.image import ImageDataGenerator\n",
        "from tensorflow.keras.applications import VGG16\n",
        "from tensorflow.keras import layers, models\n"
      ],
      "metadata": {
        "id": "r9MOEAgo4ji1"
      },
      "execution_count": null,
      "outputs": []
    },
    {
      "cell_type": "code",
      "source": [
        "import os\n",
        "\n",
        "zip_path = \"/content/kagglecatsanddogs_5340.zip\"\n",
        "print(os.path.exists(zip_path))  # deve retornar True\n"
      ],
      "metadata": {
        "colab": {
          "base_uri": "https://localhost:8080/"
        },
        "id": "xIdx98n49B4f",
        "outputId": "740ddf25-a92c-4424-cee7-55cf08979f7a"
      },
      "execution_count": null,
      "outputs": [
        {
          "output_type": "stream",
          "name": "stdout",
          "text": [
            "True\n"
          ]
        }
      ]
    },
    {
      "cell_type": "markdown",
      "source": [
        "##CAREEGAR DATASET\n",
        "Depois de carregar o arquivo zip no colab, deverá ser descompactado e conferido a estrutura"
      ],
      "metadata": {
        "id": "_XlAT833pIJ-"
      }
    },
    {
      "cell_type": "code",
      "source": [
        "import zipfile\n",
        "import os\n",
        "\n",
        "# Caminho do arquivo já carregado\n",
        "zip_path = \"/content/kagglecatsanddogs_5340.zip\"\n",
        "extract_path = \"/content/dataset\"\n",
        "\n",
        "# Extração\n",
        "with zipfile.ZipFile(zip_path, 'r') as zip_ref:\n",
        "    zip_ref.extractall(extract_path)\n",
        "\n",
        "# Conferindo a estrutura extraída\n",
        "print(os.listdir(extract_path))\n"
      ],
      "metadata": {
        "colab": {
          "base_uri": "https://localhost:8080/"
        },
        "id": "ByMOleQoybfY",
        "outputId": "4a0f28e0-9238-451b-a93d-d7198148c903"
      },
      "execution_count": null,
      "outputs": [
        {
          "output_type": "stream",
          "name": "stdout",
          "text": [
            "['CDLA-Permissive-2.0.pdf', 'readme[1].txt', 'PetImages']\n"
          ]
        }
      ]
    },
    {
      "cell_type": "code",
      "source": [
        "data_dir = os.path.join(\"dataset\", \"PetImages\")\n",
        "os.listdir(data_dir)"
      ],
      "metadata": {
        "colab": {
          "base_uri": "https://localhost:8080/"
        },
        "id": "LmpyCIiBEaxs",
        "outputId": "329f1a7b-2974-4bdf-f1cb-36f306f37602"
      },
      "execution_count": null,
      "outputs": [
        {
          "output_type": "execute_result",
          "data": {
            "text/plain": [
              "['Dog', 'Cat']"
            ]
          },
          "metadata": {},
          "execution_count": 9
        }
      ]
    },
    {
      "cell_type": "markdown",
      "source": [
        "##Preparar diretórios\n",
        "\n",
        "Essas linhas estão localizando a pasta que contém as imagens e listando o que está dentro dela."
      ],
      "metadata": {
        "id": "XOYkXB3s5xgQ"
      }
    },
    {
      "cell_type": "code",
      "source": [
        "base_dir = \"dataset/PetImages\"\n",
        "\n",
        "train_dir = os.path.join(base_dir)\n",
        "print(os.listdir(train_dir))\n"
      ],
      "metadata": {
        "colab": {
          "base_uri": "https://localhost:8080/"
        },
        "id": "4v3SqOz25zwV",
        "outputId": "1f80faf3-9adc-4f76-ee66-8a06e65ed8f1"
      },
      "execution_count": null,
      "outputs": [
        {
          "output_type": "stream",
          "name": "stdout",
          "text": [
            "['Dog', 'Cat']\n"
          ]
        }
      ]
    },
    {
      "cell_type": "markdown",
      "source": [
        "##Pré-processamento das imagens\n",
        "Preparando e organizando as imagens para treinar um modelo de forma eficiente, sendo:\n",
        "\n",
        "Definindo regras de preparação: O **ImageDataGenerator** configura o pré-processamento, como redimensionar todas as imagens, e cria variações aleatórias (rotação, zoom, etc.) para evitar que o modelo decore os dados.\n",
        "\n",
        "Criando um gerador de treinamento: O **train_generator** lê as imagens de uma pasta, aplica as regras de preparação e as variações, e as organiza em pequenos lotes (batch) para alimentar o modelo durante o treino.\n",
        "\n",
        "Criando um gerador de validação: O **val_generato**r faz o mesmo, mas usa uma parte separada das imagens (20% do total) para validar o desempenho do modelo, garantindo que ele aprenda a generalizar e não apenas a memorizar os dados."
      ],
      "metadata": {
        "id": "h7M6FGlS56x-"
      }
    },
    {
      "cell_type": "code",
      "source": [
        "train_datagen = ImageDataGenerator(\n",
        "    rescale=1./255,\n",
        "    validation_split=0.2,  # 20% para validação\n",
        "    rotation_range=20,\n",
        "    width_shift_range=0.2,\n",
        "    height_shift_range=0.2,\n",
        "    shear_range=0.2,\n",
        "    zoom_range=0.2,\n",
        "    horizontal_flip=True\n",
        ")\n",
        "\n",
        "train_generator = train_datagen.flow_from_directory(\n",
        "    train_dir,\n",
        "    target_size=(150, 150),\n",
        "    batch_size=32,\n",
        "    class_mode='binary',\n",
        "    subset='training'\n",
        ")\n",
        "\n",
        "val_generator = train_datagen.flow_from_directory(\n",
        "    train_dir,\n",
        "    target_size=(150, 150),\n",
        "    batch_size=32,\n",
        "    class_mode='binary',\n",
        "    subset='validation'\n",
        ")"
      ],
      "metadata": {
        "colab": {
          "base_uri": "https://localhost:8080/"
        },
        "id": "973mLW7X5_Xs",
        "outputId": "43fdf726-fc70-4875-e0f2-202bb52fb35d"
      },
      "execution_count": null,
      "outputs": [
        {
          "output_type": "stream",
          "name": "stdout",
          "text": [
            "Found 20000 images belonging to 2 classes.\n",
            "Found 4998 images belonging to 2 classes.\n"
          ]
        }
      ]
    },
    {
      "cell_type": "markdown",
      "source": [
        "##Removendo imagens corrompidas\n",
        "\n",
        "Removendo as imagens que apresentam algum problema para não atrapalhar o treinamento do modelo"
      ],
      "metadata": {
        "id": "Ej81n98hW0-D"
      }
    },
    {
      "cell_type": "code",
      "metadata": {
        "colab": {
          "base_uri": "https://localhost:8080/"
        },
        "id": "e3c8f0da",
        "outputId": "8187a291-42b0-4b00-fdc3-4a23b421c507"
      },
      "source": [
        "import os\n",
        "from PIL import Image\n",
        "\n",
        "base_dir = \"dataset/PetImages\"\n",
        "cat_dir = os.path.join(base_dir, \"Cat\")\n",
        "dog_dir = os.path.join(base_dir, \"Dog\")\n",
        "\n",
        "def remove_corrupted_images(directory):\n",
        "    print(f\"Checking directory: {directory}\")\n",
        "    for filename in os.listdir(directory):\n",
        "        filepath = os.path.join(directory, filename)\n",
        "        try:\n",
        "            img = Image.open(filepath)\n",
        "            img.verify() # Verify that it is an image\n",
        "        except (IOError, SyntaxError, Image.DecompressionBombError) as e:\n",
        "            print(f\"Removing corrupted image: {filepath} - Error: {e}\")\n",
        "            os.remove(filepath)\n",
        "\n",
        "remove_corrupted_images(cat_dir)\n",
        "remove_corrupted_images(dog_dir)\n",
        "\n",
        "print(\"Finished checking and removing corrupted images.\")"
      ],
      "execution_count": null,
      "outputs": [
        {
          "output_type": "stream",
          "name": "stdout",
          "text": [
            "Checking directory: dataset/PetImages/Cat\n",
            "Checking directory: dataset/PetImages/Dog\n"
          ]
        },
        {
          "output_type": "stream",
          "name": "stderr",
          "text": [
            "/usr/local/lib/python3.12/dist-packages/PIL/TiffImagePlugin.py:950: UserWarning: Truncated File Read\n",
            "  warnings.warn(str(msg))\n"
          ]
        },
        {
          "output_type": "stream",
          "name": "stdout",
          "text": [
            "Finished checking and removing corrupted images.\n"
          ]
        }
      ]
    },
    {
      "cell_type": "markdown",
      "source": [
        "##Transfer Learning com VGG16\n",
        "\n",
        "**Layer (type):** Nome da camada e tipo.\n",
        "**Output Shape:** O formato do tensor (saída da camada).\n",
        "**Param #:** Quantidade de parâmetros (pesos e vieses) daquela camada."
      ],
      "metadata": {
        "id": "6WqMtPPX6DWa"
      }
    },
    {
      "cell_type": "code",
      "source": [
        "base_model = VGG16(weights='imagenet', include_top=False, input_shape=(150,150,3))\n",
        "base_model.trainable = False  # congela pesos\n",
        "\n",
        "model = models.Sequential([\n",
        "    base_model,\n",
        "    layers.Flatten(),\n",
        "    layers.Dense(256, activation='relu'),\n",
        "    layers.Dropout(0.5),\n",
        "    layers.Dense(1, activation='sigmoid')\n",
        "])\n",
        "\n",
        "model.compile(optimizer='adam',\n",
        "              loss='binary_crossentropy',\n",
        "              metrics=['accuracy'])\n",
        "\n",
        "model.summary()\n"
      ],
      "metadata": {
        "colab": {
          "base_uri": "https://localhost:8080/",
          "height": 306
        },
        "id": "dWkWxhnf6Hk4",
        "outputId": "0d3a5e04-a1ce-43dc-a85e-06f0fbbe0160"
      },
      "execution_count": null,
      "outputs": [
        {
          "output_type": "display_data",
          "data": {
            "text/plain": [
              "\u001b[1mModel: \"sequential_1\"\u001b[0m\n"
            ],
            "text/html": [
              "<pre style=\"white-space:pre;overflow-x:auto;line-height:normal;font-family:Menlo,'DejaVu Sans Mono',consolas,'Courier New',monospace\"><span style=\"font-weight: bold\">Model: \"sequential_1\"</span>\n",
              "</pre>\n"
            ]
          },
          "metadata": {}
        },
        {
          "output_type": "display_data",
          "data": {
            "text/plain": [
              "┏━━━━━━━━━━━━━━━━━━━━━━━━━━━━━━━━━┳━━━━━━━━━━━━━━━━━━━━━━━━┳━━━━━━━━━━━━━━━┓\n",
              "┃\u001b[1m \u001b[0m\u001b[1mLayer (type)                   \u001b[0m\u001b[1m \u001b[0m┃\u001b[1m \u001b[0m\u001b[1mOutput Shape          \u001b[0m\u001b[1m \u001b[0m┃\u001b[1m \u001b[0m\u001b[1m      Param #\u001b[0m\u001b[1m \u001b[0m┃\n",
              "┡━━━━━━━━━━━━━━━━━━━━━━━━━━━━━━━━━╇━━━━━━━━━━━━━━━━━━━━━━━━╇━━━━━━━━━━━━━━━┩\n",
              "│ vgg16 (\u001b[38;5;33mFunctional\u001b[0m)              │ (\u001b[38;5;45mNone\u001b[0m, \u001b[38;5;34m4\u001b[0m, \u001b[38;5;34m4\u001b[0m, \u001b[38;5;34m512\u001b[0m)      │    \u001b[38;5;34m14,714,688\u001b[0m │\n",
              "├─────────────────────────────────┼────────────────────────┼───────────────┤\n",
              "│ flatten_1 (\u001b[38;5;33mFlatten\u001b[0m)             │ (\u001b[38;5;45mNone\u001b[0m, \u001b[38;5;34m8192\u001b[0m)           │             \u001b[38;5;34m0\u001b[0m │\n",
              "├─────────────────────────────────┼────────────────────────┼───────────────┤\n",
              "│ dense_2 (\u001b[38;5;33mDense\u001b[0m)                 │ (\u001b[38;5;45mNone\u001b[0m, \u001b[38;5;34m256\u001b[0m)            │     \u001b[38;5;34m2,097,408\u001b[0m │\n",
              "├─────────────────────────────────┼────────────────────────┼───────────────┤\n",
              "│ dropout_1 (\u001b[38;5;33mDropout\u001b[0m)             │ (\u001b[38;5;45mNone\u001b[0m, \u001b[38;5;34m256\u001b[0m)            │             \u001b[38;5;34m0\u001b[0m │\n",
              "├─────────────────────────────────┼────────────────────────┼───────────────┤\n",
              "│ dense_3 (\u001b[38;5;33mDense\u001b[0m)                 │ (\u001b[38;5;45mNone\u001b[0m, \u001b[38;5;34m1\u001b[0m)              │           \u001b[38;5;34m257\u001b[0m │\n",
              "└─────────────────────────────────┴────────────────────────┴───────────────┘\n"
            ],
            "text/html": [
              "<pre style=\"white-space:pre;overflow-x:auto;line-height:normal;font-family:Menlo,'DejaVu Sans Mono',consolas,'Courier New',monospace\">┏━━━━━━━━━━━━━━━━━━━━━━━━━━━━━━━━━┳━━━━━━━━━━━━━━━━━━━━━━━━┳━━━━━━━━━━━━━━━┓\n",
              "┃<span style=\"font-weight: bold\"> Layer (type)                    </span>┃<span style=\"font-weight: bold\"> Output Shape           </span>┃<span style=\"font-weight: bold\">       Param # </span>┃\n",
              "┡━━━━━━━━━━━━━━━━━━━━━━━━━━━━━━━━━╇━━━━━━━━━━━━━━━━━━━━━━━━╇━━━━━━━━━━━━━━━┩\n",
              "│ vgg16 (<span style=\"color: #0087ff; text-decoration-color: #0087ff\">Functional</span>)              │ (<span style=\"color: #00d7ff; text-decoration-color: #00d7ff\">None</span>, <span style=\"color: #00af00; text-decoration-color: #00af00\">4</span>, <span style=\"color: #00af00; text-decoration-color: #00af00\">4</span>, <span style=\"color: #00af00; text-decoration-color: #00af00\">512</span>)      │    <span style=\"color: #00af00; text-decoration-color: #00af00\">14,714,688</span> │\n",
              "├─────────────────────────────────┼────────────────────────┼───────────────┤\n",
              "│ flatten_1 (<span style=\"color: #0087ff; text-decoration-color: #0087ff\">Flatten</span>)             │ (<span style=\"color: #00d7ff; text-decoration-color: #00d7ff\">None</span>, <span style=\"color: #00af00; text-decoration-color: #00af00\">8192</span>)           │             <span style=\"color: #00af00; text-decoration-color: #00af00\">0</span> │\n",
              "├─────────────────────────────────┼────────────────────────┼───────────────┤\n",
              "│ dense_2 (<span style=\"color: #0087ff; text-decoration-color: #0087ff\">Dense</span>)                 │ (<span style=\"color: #00d7ff; text-decoration-color: #00d7ff\">None</span>, <span style=\"color: #00af00; text-decoration-color: #00af00\">256</span>)            │     <span style=\"color: #00af00; text-decoration-color: #00af00\">2,097,408</span> │\n",
              "├─────────────────────────────────┼────────────────────────┼───────────────┤\n",
              "│ dropout_1 (<span style=\"color: #0087ff; text-decoration-color: #0087ff\">Dropout</span>)             │ (<span style=\"color: #00d7ff; text-decoration-color: #00d7ff\">None</span>, <span style=\"color: #00af00; text-decoration-color: #00af00\">256</span>)            │             <span style=\"color: #00af00; text-decoration-color: #00af00\">0</span> │\n",
              "├─────────────────────────────────┼────────────────────────┼───────────────┤\n",
              "│ dense_3 (<span style=\"color: #0087ff; text-decoration-color: #0087ff\">Dense</span>)                 │ (<span style=\"color: #00d7ff; text-decoration-color: #00d7ff\">None</span>, <span style=\"color: #00af00; text-decoration-color: #00af00\">1</span>)              │           <span style=\"color: #00af00; text-decoration-color: #00af00\">257</span> │\n",
              "└─────────────────────────────────┴────────────────────────┴───────────────┘\n",
              "</pre>\n"
            ]
          },
          "metadata": {}
        },
        {
          "output_type": "display_data",
          "data": {
            "text/plain": [
              "\u001b[1m Total params: \u001b[0m\u001b[38;5;34m16,812,353\u001b[0m (64.13 MB)\n"
            ],
            "text/html": [
              "<pre style=\"white-space:pre;overflow-x:auto;line-height:normal;font-family:Menlo,'DejaVu Sans Mono',consolas,'Courier New',monospace\"><span style=\"font-weight: bold\"> Total params: </span><span style=\"color: #00af00; text-decoration-color: #00af00\">16,812,353</span> (64.13 MB)\n",
              "</pre>\n"
            ]
          },
          "metadata": {}
        },
        {
          "output_type": "display_data",
          "data": {
            "text/plain": [
              "\u001b[1m Trainable params: \u001b[0m\u001b[38;5;34m2,097,665\u001b[0m (8.00 MB)\n"
            ],
            "text/html": [
              "<pre style=\"white-space:pre;overflow-x:auto;line-height:normal;font-family:Menlo,'DejaVu Sans Mono',consolas,'Courier New',monospace\"><span style=\"font-weight: bold\"> Trainable params: </span><span style=\"color: #00af00; text-decoration-color: #00af00\">2,097,665</span> (8.00 MB)\n",
              "</pre>\n"
            ]
          },
          "metadata": {}
        },
        {
          "output_type": "display_data",
          "data": {
            "text/plain": [
              "\u001b[1m Non-trainable params: \u001b[0m\u001b[38;5;34m14,714,688\u001b[0m (56.13 MB)\n"
            ],
            "text/html": [
              "<pre style=\"white-space:pre;overflow-x:auto;line-height:normal;font-family:Menlo,'DejaVu Sans Mono',consolas,'Courier New',monospace\"><span style=\"font-weight: bold\"> Non-trainable params: </span><span style=\"color: #00af00; text-decoration-color: #00af00\">14,714,688</span> (56.13 MB)\n",
              "</pre>\n"
            ]
          },
          "metadata": {}
        }
      ]
    },
    {
      "cell_type": "markdown",
      "source": [
        "##Treinamento\n",
        "Treinando o modelo de inteligência artificial por 10 vezes completas, usando os dados de treinamento fornecidos. Ao mesmo tempo emque se monitora o desempenho do modelo a cada volta (época) com um conjunto de dados separado para garantir que o modelo está realmente aprendendo de forma eficaz e não apenas memorizando."
      ],
      "metadata": {
        "id": "6Nku4yQQ6RcX"
      }
    },
    {
      "cell_type": "code",
      "source": [
        "history = model.fit(\n",
        "    train_generator,\n",
        "    epochs=10,\n",
        "    validation_data=val_generator\n",
        ")\n"
      ],
      "metadata": {
        "colab": {
          "base_uri": "https://localhost:8080/"
        },
        "collapsed": true,
        "id": "JMUmCOwl6T8g",
        "outputId": "aadb4d6e-5d64-425a-d7d1-81638d734dc2"
      },
      "execution_count": null,
      "outputs": [
        {
          "output_type": "stream",
          "name": "stderr",
          "text": [
            "/usr/local/lib/python3.12/dist-packages/keras/src/trainers/data_adapters/py_dataset_adapter.py:121: UserWarning: Your `PyDataset` class should call `super().__init__(**kwargs)` in its constructor. `**kwargs` can include `workers`, `use_multiprocessing`, `max_queue_size`. Do not pass these arguments to `fit()`, as they will be ignored.\n",
            "  self._warn_if_super_not_called()\n"
          ]
        },
        {
          "output_type": "stream",
          "name": "stdout",
          "text": [
            "Epoch 1/10\n",
            "\u001b[1m 54/625\u001b[0m \u001b[32m━\u001b[0m\u001b[37m━━━━━━━━━━━━━━━━━━━\u001b[0m \u001b[1m2:27\u001b[0m 257ms/step - accuracy: 0.6354 - loss: 0.8565"
          ]
        },
        {
          "output_type": "stream",
          "name": "stderr",
          "text": [
            "/usr/local/lib/python3.12/dist-packages/PIL/TiffImagePlugin.py:950: UserWarning: Truncated File Read\n",
            "  warnings.warn(str(msg))\n"
          ]
        },
        {
          "output_type": "stream",
          "name": "stdout",
          "text": [
            "\u001b[1m625/625\u001b[0m \u001b[32m━━━━━━━━━━━━━━━━━━━━\u001b[0m\u001b[37m\u001b[0m \u001b[1m246s\u001b[0m 387ms/step - accuracy: 0.7860 - loss: 0.4725 - val_accuracy: 0.8527 - val_loss: 0.3274\n",
            "Epoch 2/10\n",
            "\u001b[1m625/625\u001b[0m \u001b[32m━━━━━━━━━━━━━━━━━━━━\u001b[0m\u001b[37m\u001b[0m \u001b[1m203s\u001b[0m 325ms/step - accuracy: 0.8421 - loss: 0.3509 - val_accuracy: 0.8723 - val_loss: 0.2931\n",
            "Epoch 3/10\n",
            "\u001b[1m625/625\u001b[0m \u001b[32m━━━━━━━━━━━━━━━━━━━━\u001b[0m\u001b[37m\u001b[0m \u001b[1m204s\u001b[0m 326ms/step - accuracy: 0.8563 - loss: 0.3202 - val_accuracy: 0.8794 - val_loss: 0.2891\n",
            "Epoch 4/10\n",
            "\u001b[1m625/625\u001b[0m \u001b[32m━━━━━━━━━━━━━━━━━━━━\u001b[0m\u001b[37m\u001b[0m \u001b[1m256s\u001b[0m 317ms/step - accuracy: 0.8670 - loss: 0.3079 - val_accuracy: 0.8701 - val_loss: 0.2845\n",
            "Epoch 5/10\n",
            "\u001b[1m625/625\u001b[0m \u001b[32m━━━━━━━━━━━━━━━━━━━━\u001b[0m\u001b[37m\u001b[0m \u001b[1m200s\u001b[0m 320ms/step - accuracy: 0.8643 - loss: 0.3104 - val_accuracy: 0.8794 - val_loss: 0.2781\n",
            "Epoch 6/10\n",
            "\u001b[1m625/625\u001b[0m \u001b[32m━━━━━━━━━━━━━━━━━━━━\u001b[0m\u001b[37m\u001b[0m \u001b[1m197s\u001b[0m 315ms/step - accuracy: 0.8725 - loss: 0.2914 - val_accuracy: 0.8741 - val_loss: 0.2892\n",
            "Epoch 7/10\n",
            "\u001b[1m625/625\u001b[0m \u001b[32m━━━━━━━━━━━━━━━━━━━━\u001b[0m\u001b[37m\u001b[0m \u001b[1m195s\u001b[0m 312ms/step - accuracy: 0.8716 - loss: 0.2914 - val_accuracy: 0.8800 - val_loss: 0.2743\n",
            "Epoch 8/10\n",
            "\u001b[1m625/625\u001b[0m \u001b[32m━━━━━━━━━━━━━━━━━━━━\u001b[0m\u001b[37m\u001b[0m \u001b[1m195s\u001b[0m 311ms/step - accuracy: 0.8682 - loss: 0.2966 - val_accuracy: 0.8762 - val_loss: 0.2792\n",
            "Epoch 9/10\n",
            "\u001b[1m625/625\u001b[0m \u001b[32m━━━━━━━━━━━━━━━━━━━━\u001b[0m\u001b[37m\u001b[0m \u001b[1m195s\u001b[0m 312ms/step - accuracy: 0.8742 - loss: 0.2885 - val_accuracy: 0.8802 - val_loss: 0.2748\n",
            "Epoch 10/10\n",
            "\u001b[1m625/625\u001b[0m \u001b[32m━━━━━━━━━━━━━━━━━━━━\u001b[0m\u001b[37m\u001b[0m \u001b[1m195s\u001b[0m 313ms/step - accuracy: 0.8819 - loss: 0.2735 - val_accuracy: 0.8776 - val_loss: 0.2811\n"
          ]
        }
      ]
    },
    {
      "cell_type": "markdown",
      "source": [
        "##Visualização dos resultados\n",
        "**Acurácia:**: É a métrica mais intuitiva e simples de entender. Ela mede a porcentagem de previsões corretas que o seu modelo fez. Em outras palavras, é a proporção de casos em que o modelo acertou em relação ao total de casos avaliados.\n",
        "\n",
        "**Perda**: A perda, ou função de perda (loss function), é uma métrica que quantifica o quão \"erradas\" são as previsões do seu modelo. Ao contrário da acurácia, que é uma métrica de desempenho geral, a perda é usada para guiar o processo de treinamento do modelo. O objetivo do treinamento é encontrar os parâmetros do modelo que minimizem essa perda.\n",
        "\n",
        "Durante o treinamento de um modelo deve-se observa ambas as métricas evoluindo. Idealmente, a perda no conjunto de dados de treinamento (e de validação) diminui, indicando que o modelo está aprendendo e fazendo previsões melhores. Ao mesmo tempo, a acurácia no conjunto de validação deve aumentar, mostrando que o modelo está generalizando bem para novos dados.\n",
        "\n",
        "É importante monitorar essas métricas para identificar problemas como overfitting (o modelo decora os dados de treinamento, mas não generaliza bem para novos dados) ou underfitting (o modelo é muito simples e não consegue aprender o padrão dos dados)."
      ],
      "metadata": {
        "id": "zh9NtMeb6rln"
      }
    },
    {
      "cell_type": "code",
      "source": [
        "acc = history.history['accuracy']\n",
        "val_acc = history.history['val_accuracy']\n",
        "loss = history.history['loss']\n",
        "val_loss = history.history['val_loss']\n",
        "\n",
        "epochs_range = range(len(acc))\n",
        "\n",
        "plt.figure(figsize=(12,5))\n",
        "plt.subplot(1,2,1)\n",
        "plt.plot(epochs_range, acc, label='Treino')\n",
        "plt.plot(epochs_range, val_acc, label='Validação')\n",
        "plt.legend()\n",
        "plt.title(\"Acurácia\")\n",
        "\n",
        "plt.subplot(1,2,2)\n",
        "plt.plot(epochs_range, loss, label='Treino')\n",
        "plt.plot(epochs_range, val_loss, label='Validação')\n",
        "plt.legend()\n",
        "plt.title(\"Perda\")\n",
        "\n",
        "plt.show()\n"
      ],
      "metadata": {
        "id": "WCSBf8D86tB_",
        "colab": {
          "base_uri": "https://localhost:8080/",
          "height": 446
        },
        "outputId": "7f4b399a-58b3-4c46-c59a-9992d6619883"
      },
      "execution_count": null,
      "outputs": [
        {
          "output_type": "display_data",
          "data": {
            "text/plain": [
              "<Figure size 1200x500 with 2 Axes>"
            ],
            "image/png": "[encoded data removed]"
          },
          "metadata": {}
        }
      ]
    },
    {
      "cell_type": "markdown",
      "source": [
        "##Predição em novas imagens"
      ],
      "metadata": {
        "id": "Wy66vpw260mO"
      }
    },
    {
      "cell_type": "code",
      "source": [
        "import numpy as np\n",
        "from tensorflow.keras.preprocessing import image\n",
        "\n",
        "img_path = \"dataset/PetImages/Cat/1.jpg\"  # troque por uma imagem\n",
        "img = image.load_img(img_path, target_size=(150, 150))\n",
        "img_array = image.img_to_array(img) / 255.0\n",
        "img_array = np.expand_dims(img_array, axis=0)\n",
        "\n",
        "prediction = model.predict(img_array)\n",
        "\n",
        "if prediction[0] > 0.5:\n",
        "    print(\"É um cachorro 🐶\")\n",
        "else:\n",
        "    print(\"É um gato 🐱\")\n"
      ],
      "metadata": {
        "id": "GNbwCD2k614X",
        "colab": {
          "base_uri": "https://localhost:8080/"
        },
        "outputId": "36f5583b-3229-44ca-b1a6-20894fda6d48"
      },
      "execution_count": null,
      "outputs": [
        {
          "output_type": "stream",
          "name": "stdout",
          "text": [
            "\u001b[1m1/1\u001b[0m \u001b[32m━━━━━━━━━━━━━━━━━━━━\u001b[0m\u001b[37m\u001b[0m \u001b[1m2s\u001b[0m 2s/step\n",
            "É um gato 🐱\n"
          ]
        }
      ]
    },
    {
      "cell_type": "markdown",
      "metadata": {
        "id": "7IYJyK5IrAnV"
      },
      "source": [
        "## 📊 Resultados e Conclusão\n",
        "- O modelo apresentou boa acurácia na classificação de **gatos vs cachorros**.  \n",
        "- A perda de validação diminuiu de forma consistente, indicando bom aprendizado.  \n",
        "\n",
        "### ✅ Conclusão Final\n",
        "Este projeto demonstrou a eficácia do **Transfer Learning** em visão computacional.  \n",
        "Reaproveitando redes pré-treinadas, conseguimos treinar um modelo robusto para classificação binária com menos dados e menor custo computacional.  \n",
        "\n",
        "🚀 O mesmo conceito pode ser aplicado em diversas áreas: imagens médicas, segurança, e-commerce e muito mais.\n"
      ]
    }
  ]
}